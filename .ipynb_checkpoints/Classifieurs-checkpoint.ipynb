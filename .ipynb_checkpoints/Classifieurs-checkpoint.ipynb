{
 "cells": [
  {
   "cell_type": "code",
   "execution_count": 9,
   "metadata": {},
   "outputs": [],
   "source": [
    "from sklearn.feature_extraction.text import TfidfVectorizer\n",
    "from unidecode import unidecode\n",
    "import string\n",
    "import nltk \n",
    "from nltk.corpus import stopwords\n",
    "from nltk import word_tokenize\n",
    "from nltk.stem import WordNetLemmatizer\n",
    "import numpy as np"
   ]
  },
  {
   "cell_type": "markdown",
   "metadata": {},
   "source": [
    "# 1- Preparation et nettoyage de données"
   ]
  },
  {
   "cell_type": "code",
   "execution_count": 2,
   "metadata": {},
   "outputs": [],
   "source": [
    "corpus= open(\"./CorpusM2-AFD/corpus.tache1.learn\",\"r\",encoding=\"latin-1\")"
   ]
  },
  {
   "cell_type": "code",
   "execution_count": 3,
   "metadata": {},
   "outputs": [],
   "source": [
    "def get_Person(s):\n",
    "    for i in range(0,len(s)):\n",
    "        if s[i]=='>':\n",
    "            return(s[i-1])"
   ]
  },
  {
   "cell_type": "code",
   "execution_count": 4,
   "metadata": {},
   "outputs": [],
   "source": [
    "def get_X_Y(corpus):\n",
    "    X=[]\n",
    "    Y=[]\n",
    "    for ligne in corpus:\n",
    "        #data=ligne.split(\" \")\n",
    "        data= word_tokenize(ligne)\n",
    "        X.append(data[5:]) \n",
    "        #Y.append(get_Person(data[0]))\n",
    "        Y.append(data[3])\n",
    "    return X,Y"
   ]
  },
  {
   "cell_type": "code",
   "execution_count": 5,
   "metadata": {},
   "outputs": [],
   "source": [
    "X,Y=get_X_Y(corpus)\n",
    "#for i in range(0,len(Y)):\n",
    "    #print(X[i] ,\" ---> Classe: \", Y[i])"
   ]
  },
  {
   "cell_type": "code",
   "execution_count": 6,
   "metadata": {},
   "outputs": [
    {
     "name": "stdout",
     "output_type": "stream",
     "text": [
      "['comment', 'ne', 'pas', 'y', 'voir', 'un', 'signe', '?']\n"
     ]
    }
   ],
   "source": [
    "def Transformer_MajusculesMinuscules(l):\n",
    "    X=[]  \n",
    "    for element in l:\n",
    "            lst = [x.lower() for x in element]\n",
    "            X.append(lst)\n",
    "    return X\n",
    "\n",
    "X = Transformer_MajusculesMinuscules(X)\n",
    "print(X[5])"
   ]
  },
  {
   "cell_type": "code",
   "execution_count": 11,
   "metadata": {},
   "outputs": [
    {
     "ename": "TypeError",
     "evalue": "string operation on non-string array",
     "output_type": "error",
     "traceback": [
      "\u001b[0;31m---------------------------------------------------------------------------\u001b[0m",
      "\u001b[0;31mTypeError\u001b[0m                                 Traceback (most recent call last)",
      "\u001b[0;32m<ipython-input-11-a7e5e10aae48>\u001b[0m in \u001b[0;36m<module>\u001b[0;34m\u001b[0m\n\u001b[1;32m      9\u001b[0m         \u001b[0mX\u001b[0m \u001b[0;34m=\u001b[0m \u001b[0mnp\u001b[0m\u001b[0;34m.\u001b[0m\u001b[0mchar\u001b[0m\u001b[0;34m.\u001b[0m\u001b[0mreplace\u001b[0m\u001b[0;34m(\u001b[0m\u001b[0mX\u001b[0m\u001b[0;34m,\u001b[0m \u001b[0mi\u001b[0m\u001b[0;34m,\u001b[0m \u001b[0;34m' '\u001b[0m\u001b[0;34m)\u001b[0m\u001b[0;34m\u001b[0m\u001b[0;34m\u001b[0m\u001b[0m\n\u001b[1;32m     10\u001b[0m     \u001b[0;32mreturn\u001b[0m \u001b[0mX\u001b[0m\u001b[0;34m\u001b[0m\u001b[0;34m\u001b[0m\u001b[0m\n\u001b[0;32m---> 11\u001b[0;31m \u001b[0mX\u001b[0m \u001b[0;34m=\u001b[0m \u001b[0mRemove_Punctuation\u001b[0m\u001b[0;34m(\u001b[0m\u001b[0mX\u001b[0m\u001b[0;34m)\u001b[0m\u001b[0;34m\u001b[0m\u001b[0;34m\u001b[0m\u001b[0m\n\u001b[0m\u001b[1;32m     12\u001b[0m \u001b[0mprint\u001b[0m\u001b[0;34m(\u001b[0m\u001b[0mX\u001b[0m\u001b[0;34m[\u001b[0m\u001b[0;36m5\u001b[0m\u001b[0;34m]\u001b[0m\u001b[0;34m)\u001b[0m\u001b[0;34m\u001b[0m\u001b[0;34m\u001b[0m\u001b[0m\n\u001b[1;32m     13\u001b[0m \u001b[0;34m\u001b[0m\u001b[0m\n",
      "\u001b[0;32m<ipython-input-11-a7e5e10aae48>\u001b[0m in \u001b[0;36mRemove_Punctuation\u001b[0;34m(X)\u001b[0m\n\u001b[1;32m      7\u001b[0m     \u001b[0msymbols\u001b[0m \u001b[0;34m=\u001b[0m \u001b[0;34m\"!\\\"#$%&()*+-./:;<=>?@[\\]^_`{|}~\\n\"\u001b[0m\u001b[0;34m\u001b[0m\u001b[0;34m\u001b[0m\u001b[0m\n\u001b[1;32m      8\u001b[0m     \u001b[0;32mfor\u001b[0m \u001b[0mi\u001b[0m \u001b[0;32min\u001b[0m \u001b[0msymbols\u001b[0m\u001b[0;34m:\u001b[0m\u001b[0;34m\u001b[0m\u001b[0;34m\u001b[0m\u001b[0m\n\u001b[0;32m----> 9\u001b[0;31m         \u001b[0mX\u001b[0m \u001b[0;34m=\u001b[0m \u001b[0mnp\u001b[0m\u001b[0;34m.\u001b[0m\u001b[0mchar\u001b[0m\u001b[0;34m.\u001b[0m\u001b[0mreplace\u001b[0m\u001b[0;34m(\u001b[0m\u001b[0mX\u001b[0m\u001b[0;34m,\u001b[0m \u001b[0mi\u001b[0m\u001b[0;34m,\u001b[0m \u001b[0;34m' '\u001b[0m\u001b[0;34m)\u001b[0m\u001b[0;34m\u001b[0m\u001b[0;34m\u001b[0m\u001b[0m\n\u001b[0m\u001b[1;32m     10\u001b[0m     \u001b[0;32mreturn\u001b[0m \u001b[0mX\u001b[0m\u001b[0;34m\u001b[0m\u001b[0;34m\u001b[0m\u001b[0m\n\u001b[1;32m     11\u001b[0m \u001b[0mX\u001b[0m \u001b[0;34m=\u001b[0m \u001b[0mRemove_Punctuation\u001b[0m\u001b[0;34m(\u001b[0m\u001b[0mX\u001b[0m\u001b[0;34m)\u001b[0m\u001b[0;34m\u001b[0m\u001b[0;34m\u001b[0m\u001b[0m\n",
      "\u001b[0;32m<__array_function__ internals>\u001b[0m in \u001b[0;36mreplace\u001b[0;34m(*args, **kwargs)\u001b[0m\n",
      "\u001b[0;32m/opt/anaconda3/lib/python3.7/site-packages/numpy/core/defchararray.py\u001b[0m in \u001b[0;36mreplace\u001b[0;34m(a, old, new, count)\u001b[0m\n\u001b[1;32m   1176\u001b[0m     return _to_string_or_unicode_array(\n\u001b[1;32m   1177\u001b[0m         _vec_string(\n\u001b[0;32m-> 1178\u001b[0;31m             a, object_, 'replace', [old, new] + _clean_args(count)))\n\u001b[0m\u001b[1;32m   1179\u001b[0m \u001b[0;34m\u001b[0m\u001b[0m\n\u001b[1;32m   1180\u001b[0m \u001b[0;34m\u001b[0m\u001b[0m\n",
      "\u001b[0;31mTypeError\u001b[0m: string operation on non-string array"
     ]
    }
   ],
   "source": [
    "def Remove_Punctuation(X):\n",
    "    list=[]\n",
    "    for line in X:\n",
    "        table = str.maketrans('', ' ', string.punctuation)\n",
    "        stripped = [w.translate(table) for w in line]\n",
    "        list.append(stripped)\n",
    "    return list\n",
    "X = Remove_Punctuation(X)\n",
    "print(X[5])"
   ]
  },
  {
   "cell_type": "code",
   "execution_count": 13,
   "metadata": {},
   "outputs": [
    {
     "name": "stderr",
     "output_type": "stream",
     "text": [
      "IOPub data rate exceeded.\n",
      "The notebook server will temporarily stop sending output\n",
      "to the client in order to avoid crashing it.\n",
      "To change this limit, set the config variable\n",
      "`--NotebookApp.iopub_data_rate_limit`.\n",
      "\n",
      "Current values:\n",
      "NotebookApp.iopub_data_rate_limit=1000000.0 (bytes/sec)\n",
      "NotebookApp.rate_limit_window=3.0 (secs)\n",
      "\n"
     ]
    }
   ],
   "source": [
    "def Stop_Words(X):\n",
    "    stop_words = set(stopwords.words('french'))\n",
    "    new_sentence =[]\n",
    "    #NewList=[[ w if w not in stop_words for w in line] for line in X]\n",
    "    NewList=[]\n",
    "    for line in X:\n",
    "        for w in line:\n",
    "            if w not in stop_words: \n",
    "                new_sentence.append(w)\n",
    "        NewList.append(new_sentence)   \n",
    "    return NewList\n",
    "#X= Stop_Words(X)\n",
    "#print(X[5])"
   ]
  },
  {
   "cell_type": "code",
   "execution_count": null,
   "metadata": {},
   "outputs": [],
   "source": [
    "def Lemmatisation(X):\n",
    "    new_sentence =[]\n",
    "    NewList=[]\n",
    "    lemmatizer = WordNetLemmatizer()\n",
    "    for line in X:\n",
    "        for w in line:\n",
    "            w= lemmatizer.lemmatize(w)\n",
    "            new_sentence.append(w)\n",
    "        NewList.append(new_sentence) \n",
    "    return NewList\n",
    "X= Lemmatisation(X)\n",
    "print(X[4])"
   ]
  },
  {
   "cell_type": "code",
   "execution_count": null,
   "metadata": {},
   "outputs": [],
   "source": [
    "#def Tf_IDF(X):\n",
    "    #vectorizer = TfidfVectorizer()\n",
    "    #X_Tfidf = vectorizer.fit_transform(X)\n",
    "    #print(vectorizer.get_feature_names())\n",
    "    #print(X_Tfidf.shape)"
   ]
  },
  {
   "cell_type": "code",
   "execution_count": null,
   "metadata": {},
   "outputs": [],
   "source": [
    "from sklearn.model_selection import train_test_split\n",
    "X_train, X_test, y_train, y_test = train_test_split(X, Y, test_size=0.2,train_size=0.8)"
   ]
  },
  {
   "cell_type": "code",
   "execution_count": null,
   "metadata": {},
   "outputs": [],
   "source": [
    "print(X_train.shape,len(y_train))\n",
    "print(X_test.shape,len(y_test))"
   ]
  },
  {
   "cell_type": "markdown",
   "metadata": {},
   "source": [
    "# 2- Apprentissage"
   ]
  },
  {
   "cell_type": "code",
   "execution_count": null,
   "metadata": {},
   "outputs": [],
   "source": []
  }
 ],
 "metadata": {
  "kernelspec": {
   "display_name": "Python 3",
   "language": "python",
   "name": "python3"
  },
  "language_info": {
   "codemirror_mode": {
    "name": "ipython",
    "version": 3
   },
   "file_extension": ".py",
   "mimetype": "text/x-python",
   "name": "python",
   "nbconvert_exporter": "python",
   "pygments_lexer": "ipython3",
   "version": "3.7.4"
  }
 },
 "nbformat": 4,
 "nbformat_minor": 2
}
